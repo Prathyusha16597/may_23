{
 "cells": [
  {
   "cell_type": "code",
   "execution_count": 5,
   "id": "7cd0e3f2",
   "metadata": {},
   "outputs": [
    {
     "name": "stdout",
     "output_type": "stream",
     "text": [
      "I Want this Furcher of Car\n",
      "Lambagini\n",
      "Blue\n",
      "120/kmp\n"
     ]
    }
   ],
   "source": [
    "#INSTANCE VARIABLE\n",
    "class Car:\n",
    "    name=\"Lambagini\"\n",
    "    colour=\"Blue\"\n",
    "    speed=\"120/kmp\"\n",
    "    def __init__(self):\n",
    "        print(\"I Want this Furcher of Car\")\n",
    "c=Car()\n",
    "print(c.name)\n",
    "print(c.colour)\n",
    "print(c.speed)"
   ]
  },
  {
   "cell_type": "code",
   "execution_count": 6,
   "id": "de06ed53",
   "metadata": {},
   "outputs": [
    {
     "name": "stdout",
     "output_type": "stream",
     "text": [
      "I Want this Furcher of Car\n",
      "Lambagini Blue 120/kmp\n"
     ]
    }
   ],
   "source": [
    "#INSTANCE VARIABLE\n",
    "class Car:\n",
    "    \"name=\"Lambagini\"\n",
    "    colour=\"Blue\"\n",
    "    speed=\"120/kmp\n",
    "    def __init__(self):\n",
    "        print(\"I Want this Furcher of Car\")\n",
    "c=Car()\n",
    "print(c.name,c.colour,c.speed)\n"
   ]
  },
  {
   "cell_type": "code",
   "execution_count": 7,
   "id": "dac69e88",
   "metadata": {},
   "outputs": [
    {
     "name": "stdout",
     "output_type": "stream",
     "text": [
      "I Want this Furcher of Bick ..............\n",
      "Name of the Bick is   Lambagini\n",
      "Colour of the Bick is   Blue\n",
      "Speed of the Bick is   120/kmp\n"
     ]
    }
   ],
   "source": [
    "#LOCAL VARIABLE\n",
    "class Bick:\n",
    "    def __init__(self):\n",
    "        print(\"I Want this Furcher of Bick ..............\")\n",
    "        name=\"Lambagini\"\n",
    "        colour=\"Blue\"\n",
    "        speed=\"120/kmp\"\n",
    "        print(\"Name of the Bick is  \",name)\n",
    "        print(\"Colour of the Bick is  \",colour)\n",
    "        print(\"Speed of the Bick is  \",speed)\n",
    "b=Bick()\n",
    "        "
   ]
  },
  {
   "cell_type": "code",
   "execution_count": 28,
   "id": "a0fb2f3d",
   "metadata": {},
   "outputs": [
    {
     "name": "stdout",
     "output_type": "stream",
     "text": [
      "Area of Circle\n",
      "50.2656\n"
     ]
    }
   ],
   "source": [
    "class Circle:\n",
    "    pi=3.1416\n",
    "    r=4\n",
    "    circle=pi*r*r\n",
    "    def __init__(self):\n",
    "        print(\"Area of Circle\")\n",
    "c=Circle()\n",
    "print(c.circle)"
   ]
  },
  {
   "cell_type": "code",
   "execution_count": 29,
   "id": "3bb93216",
   "metadata": {},
   "outputs": [
    {
     "name": "stdout",
     "output_type": "stream",
     "text": [
      "Area of circle...........\n",
      "15.700000000000001\n"
     ]
    }
   ],
   "source": [
    "class Rectangle:\n",
    "    l=3.14\n",
    "    w=5\n",
    "    def __init__(self):\n",
    "        print(\"Area of circle...........\")\n",
    "    area=w*l\n",
    "r=Rectangle()\n",
    "print(r.area)\n"
   ]
  },
  {
   "cell_type": "code",
   "execution_count": 1,
   "id": "0c9ddceb",
   "metadata": {},
   "outputs": [
    {
     "name": "stdout",
     "output_type": "stream",
     "text": [
      "arjun\n",
      "Area of Semicircle : 14.1372\n"
     ]
    }
   ],
   "source": [
    "class Semicircle:\n",
    "    def __init__(self):\n",
    "        print(\"arjun\")\n",
    "        pi=3.1416\n",
    "        micircle=(pi*r*r)/2\n",
    "        print(\"Area of Semicircle :\",semicircle)\n",
    "s=Semicircle() r=3\n",
    "        se"
   ]
  },
  {
   "cell_type": "code",
   "execution_count": 4,
   "id": "043a64c8",
   "metadata": {},
   "outputs": [
    {
     "name": "stdout",
     "output_type": "stream",
     "text": [
      "Name of the Company Tcs\n",
      "Name of the Company wipro\n",
      "Name of the Company infosis\n"
     ]
    }
   ],
   "source": [
    "class Company:\n",
    "    def __init__(self,nameofcompany):\n",
    "        name=nameofcompany\n",
    "        print(\"Name of the Company\",name)\n",
    "a=Company(\"Tcs\")\n",
    "b=Company(\"wipro\")\n",
    "c=Company(\"infosis\")\n",
    "\n",
    "        \n",
    "    "
   ]
  },
  {
   "cell_type": "code",
   "execution_count": 5,
   "id": "c5c6e741",
   "metadata": {},
   "outputs": [
    {
     "name": "stdout",
     "output_type": "stream",
     "text": [
      "Sports name cricket\n",
      "Sports name Haki\n",
      "Sports name Kabadi\n"
     ]
    }
   ],
   "source": [
    "class Sports:\n",
    "    def __init__(self,sportsname):\n",
    "        name=sportsname\n",
    "        print(\"Sports name\",name)\n",
    "a=Sports(\"cricket\")\n",
    "s=Sports(\"Haki\")\n",
    "d=Sports(\"Kabadi\")"
   ]
  },
  {
   "cell_type": "code",
   "execution_count": 2,
   "id": "0ac7998e",
   "metadata": {},
   "outputs": [
    {
     "name": "stdout",
     "output_type": "stream",
     "text": [
      "50.2656\n"
     ]
    }
   ],
   "source": [
    "class Area:\n",
    "    def __init__(self):\n",
    "        print(\"aaaaaasdf\")\n",
    "    @staticmethod\n",
    "    def circle(pi,r):\n",
    "        areaofcircle=pi*r*r\n",
    "        print(areaofcircle)\n",
    "Area.circle(3.1416,4)"
   ]
  },
  {
   "cell_type": "code",
   "execution_count": 1,
   "id": "26a8ffdc",
   "metadata": {},
   "outputs": [
    {
     "name": "stdout",
     "output_type": "stream",
     "text": [
      "Enter a first Number : 8\n",
      "Enter the second number :9\n",
      "89\n",
      "8*1=8\n",
      "8*2=16\n",
      "8*3=24\n",
      "8*4=32\n",
      "8*5=40\n",
      "8*6=48\n",
      "8*7=56\n",
      "8*8=64\n",
      "8*9=72\n",
      "8*10=80\n",
      "9*10=9\n",
      "9*10=9\n",
      "9*10=9\n",
      "9*10=9\n",
      "9*10=9\n",
      "9*10=9\n",
      "9*10=9\n",
      "9*10=9\n",
      "9*10=9\n",
      "9*10=9\n",
      "89*10=89\n",
      "89*10=89\n",
      "89*10=89\n",
      "89*10=89\n",
      "89*10=89\n",
      "89*10=89\n",
      "89*10=89\n",
      "89*10=89\n",
      "89*10=89\n",
      "89*10=89\n"
     ]
    }
   ],
   "source": [
    "n=int(input(\"Enter a first Number : \"))\n",
    "n1=int(input(\"Enter the second number :\"))\n",
    "s1=str(n)\n",
    "s2=str(n1)\n",
    "s3=s1+s2\n",
    "print(s3)\n",
    "for i in range(1,11):\n",
    "    print(\"{}*{}={}\".format(n,i,n*i))\n",
    "for j in range(1,11):\n",
    "    print(\"{}*{}={}\".format(n1,i,n1*1))\n",
    "for h in range(1,11):\n",
    "    print(\"{}*{}={}\".format(s3,i,s3*1))\n",
    "    \n",
    "    "
   ]
  },
  {
   "cell_type": "code",
   "execution_count": 3,
   "id": "d0cfb45d",
   "metadata": {},
   "outputs": [
    {
     "name": "stdout",
     "output_type": "stream",
     "text": [
      "Arjun\n",
      "Addition of Two Numbers :  5\n",
      "Addition of Two Numbers :  13\n"
     ]
    }
   ],
   "source": [
    "class Addition:\n",
    "    def __init__(self):\n",
    "        print(\"Arjun\")\n",
    "    def add(self,a,b):\n",
    "        c=a+b\n",
    "        print(\"Addition of Two Numbers : \",c)\n",
    "a=Addition()\n",
    "a.add(2,3)\n",
    "a.add(4,9)"
   ]
  },
  {
   "cell_type": "code",
   "execution_count": 6,
   "id": "21aa8329",
   "metadata": {},
   "outputs": [
    {
     "name": "stdout",
     "output_type": "stream",
     "text": [
      "ARJUN\n",
      "Students to attean the class \n",
      "Prathyusha\n"
     ]
    }
   ],
   "source": [
    "class Students:\n",
    "    name=\"Prathyusha\"\n",
    "    def __init__(self):\n",
    "        print(\"ARJUN\")\n",
    "    @classmethod\n",
    "    def attean(cls):\n",
    "        print(\"Students to attean the class \")\n",
    "s=Students()\n",
    "s.attean()\n",
    "print(s.name)"
   ]
  },
  {
   "cell_type": "code",
   "execution_count": 7,
   "id": "2f8fbe44",
   "metadata": {},
   "outputs": [
    {
     "name": "stdout",
     "output_type": "stream",
     "text": [
      "Enter a cost Price : 5000\n",
      "Entera category : A\n",
      "5400.0\n"
     ]
    }
   ],
   "source": [
    "#create user defined function to do the following:\n",
    "#   ask the user the cost price of the article\n",
    "#   ask the category of the article\n",
    "#   which could be :-\n",
    "#    A   then the profit percentage is 8%\n",
    "#   then the profit percentage is 6.5%\n",
    "#    C   then the profit percentage is 5.5%\n",
    "#   selling price = cost price + (cost price * profit percentage)\n",
    "def selling_price(cost_price,category):\n",
    "    if category=='A':\n",
    "        proft_percentage=8/100\n",
    "    elif category=='B':\n",
    "        proft_percentage=6.5/100\n",
    "    elif category=='C':\n",
    "        proft_percentage=5.5/100\n",
    "    selling_price=cost_price+(cost_price*proft_percentage)\n",
    "    return selling_price\n",
    "cost_price=int(input(\"Enter a cost Price : \"))\n",
    "category=input(\"Entera category : \")\n",
    "print(selling_price(cost_price,category))"
   ]
  },
  {
   "cell_type": "code",
   "execution_count": 9,
   "id": "687c4c99",
   "metadata": {},
   "outputs": [
    {
     "name": "stdout",
     "output_type": "stream",
     "text": [
      "Enter a Name : Arjun\n",
      "Enter a Name : Klaus\n",
      "Enter a Name : Damon\n",
      "Enter a Name : Arjun\n",
      "The name is AlRADE EXIST\n",
      "Enter a Name : Jaywanth\n",
      "Enter a Name : Rick\n",
      "Enter a Name : Matt\n",
      "Enter a Name : STOP\n",
      "{'Rick', 'Klaus', 'Damon', 'Arjun', 'Matt', 'Jaywanth'}\n",
      "0\n"
     ]
    }
   ],
   "source": [
    "#input names till the user types STOP to EXIT\n",
    "#   add the names to the set\n",
    "#   if the name inputted already exist then display the \n",
    "#   message as the name is already there hence NOT added again\n",
    "#   process how many names have Kumar or Rao as surname\n",
    "#   remove the following people name lets say it is provided in a '\n",
    "#   another set rem_name={'Ashok','Lalit','Pankaj','Anand','Asha','Usha'}\n",
    "#   how many names were removed from the name set you created\n",
    "def name():\n",
    "    c=0\n",
    "    rem_name={'Ashok','Lalit','Pankaj','Anand','Asha','Usha'}\n",
    "    name=set()\n",
    "    while True:\n",
    "        names=input(\"Enter a Name : \")\n",
    "        if names==\"STOP\":\n",
    "            break\n",
    "        elif names in name:\n",
    "            print(\"The name is AlRADE EXIST\")\n",
    "        else:\n",
    "            name.add(names)\n",
    "            if names.endswith(\"kumar\") or names.endswith(\"rao\"):\n",
    "                c=c+1\n",
    "            if names in rem_name:\n",
    "                name.remove(names)\n",
    "    print(name)\n",
    "    print(c)\n",
    "name()  "
   ]
  },
  {
   "cell_type": "code",
   "execution_count": 10,
   "id": "ddee2a5e",
   "metadata": {},
   "outputs": [
    {
     "name": "stdout",
     "output_type": "stream",
     "text": [
      "Enter a Principle : 56000\n",
      "Enter a Rate : 3\n",
      "Enter a Time : 2\n",
      "Simple Insterest :  3360.0\n",
      "Amount :  59360.0\n"
     ]
    }
   ],
   "source": [
    "#writite functions, call functions, make it return values)\n",
    "# input the principle, rate and time\n",
    "#   compute the simple interest and amount\n",
    "#   SI = ( P x T x R ) / 100\n",
    "#   Amount = SI + P\n",
    "#   .......\n",
    "#   should have (say) functions like this\n",
    "#   input_data()\n",
    "#   compute_interest()\n",
    "#   display_amount()\n",
    "#   display_simple_interest()\n",
    "def insterest():\n",
    "    p=int(input(\"Enter a Principle : \"))\n",
    "    r=float(input(\"Enter a Rate : \"))\n",
    "    t=float(input(\"Enter a Time : \"))\n",
    "    return p,r,t\n",
    "def simpleInsterest():\n",
    "    global SI\n",
    "    SI=(p * r * t)/100\n",
    "    return SI\n",
    "def amount():\n",
    "    global Amount\n",
    "    Amount=simpleInsterest()+p\n",
    "    return Amount\n",
    "p,r,t=insterest()\n",
    "simpleInsterest()\n",
    "amount()\n",
    "print('Simple Insterest : ',SI)\n",
    "print('Amount : ',Amount)"
   ]
  },
  {
   "cell_type": "code",
   "execution_count": 11,
   "id": "26b25b63",
   "metadata": {},
   "outputs": [
    {
     "name": "stdout",
     "output_type": "stream",
     "text": [
      "Enter ITEM_ID : 101\n",
      "Enter ITEM_NAME : nudilus\n",
      "Enter a COST_PRICE : 300\n",
      "Enter a CATEGRY : B\n",
      "Display All the Details\n",
      "Item_id :  101\n",
      "Item_Name :  nudilus\n",
      "Categry :  B\n",
      "Cost_price :  300\n",
      "SellingPrice :  337.5\n"
     ]
    }
   ],
   "source": [
    "#create a Item class which should have \n",
    "#   item id, name , cost price of the item\n",
    "#   item catogery, selling price\n",
    "#   selling price is decided on the following way\n",
    "#   for cateogry A type of item it is 8.5% profit\n",
    "#   SP = CP + (CP * profit%)\n",
    "#   for cateogry B type of item it is 12.5% profit\n",
    "#   SP = CP + (CP * profit%)\n",
    "#   display the item details with the SP\n",
    "class Item():\n",
    "    item_id=int(input(\"Enter ITEM_ID : \"))\n",
    "    item_name=input(\"Enter ITEM_NAME : \")\n",
    "    cp=int(input(\"Enter a COST_PRICE : \"))\n",
    "    categry=input(\"Enter a CATEGRY : \")\n",
    "    def __init__(self):\n",
    "        print(\"Display All the Details\")\n",
    "    def sellingPrice(self):\n",
    "        if self.categry=='A':\n",
    "            profit=8.5/100\n",
    "            sp=self.cp+(self.cp*profit)\n",
    "            return sp\n",
    "    \n",
    "        else:\n",
    "            if self.categry=='B':\n",
    "                profit=12.5/100\n",
    "                sp=self.cp+(self.cp*profit)\n",
    "                return sp\n",
    "i=Item()\n",
    "s=i.sellingPrice()\n",
    "print(\"Item_id : \",i.item_id)\n",
    "print(\"Item_Name : \",i.item_name)\n",
    "print(\"Categry : \",i.categry)\n",
    "print(\"Cost_price : \",i.cp)\n",
    "print(\"SellingPrice : \",s)       "
   ]
  },
  {
   "cell_type": "code",
   "execution_count": 12,
   "id": "59406e30",
   "metadata": {},
   "outputs": [
    {
     "name": "stdout",
     "output_type": "stream",
     "text": [
      "Set of the Values :  {1793, 264, 3209, 522, 653, 1554, 148, 20, 2965, 790, 2970, 2205, 925, 797, 424, 2600, 942, 2352, 1715, 57, 186, 3130, 697, 574, 2367, 1992, 4296, 3273, 843, 3533, 2512, 978, 722, 4692, 2261, 724, 4445, 222, 1249, 357, 359, 3303, 873, 1260, 2673, 4978, 882}\n",
      "SUM of All the ODD Numbers :  40552\n",
      "Highest of the EVEN Number :  4978\n",
      "how many Numbers are divisible by 5 as well as 7 :  4\n",
      "AVERAGE of the Between the 600 t0 800 :  730.5\n"
     ]
    }
   ],
   "source": [
    "class Random_Numbers:\n",
    "    def generante_randoms_numbers(self):\n",
    "        self.set1=set()\n",
    "        import random\n",
    "        for i in range(1,10):\n",
    "            n = random.randint(1,500)\n",
    "            self.set1.add(n)\n",
    "        for j in range(1,25):\n",
    "            n1=random.randint(1000,5000)\n",
    "            self.set1.add(n1)\n",
    "        for h in range(1,15):\n",
    "            n2=random.randint(500,999)\n",
    "            self.set1.add(n2)\n",
    "        print(\"Set of the Values : \",self.set1)\n",
    "    def set_tuple(self):\n",
    "        self.t1=tuple(self.set1)\n",
    "    def odd_even_numbers(self):\n",
    "        s=0\n",
    "        h=0\n",
    "        for i in self.t1:\n",
    "            if i%2==0:\n",
    "                if i>h:\n",
    "                    h=i\n",
    "            else:\n",
    "                s=s+i\n",
    "        print(\"SUM of All the ODD Numbers : \",s)\n",
    "        print(\"Highest of the EVEN Number : \",h)\n",
    "    def divisible_5_and_7(self):\n",
    "        c=0\n",
    "        for x in self.t1:\n",
    "            if x>=100:\n",
    "                if x%5==0 and x%7==0:\n",
    "                    c=c+1\n",
    "        print(\"how many Numbers are divisible by 5 as well as 7 : \",c)\n",
    "    def avg_of_the_600to800(self):\n",
    "        c1=s1=0\n",
    "        for s in self.t1:\n",
    "            if 600<=s<=800:\n",
    "                s1=s1+s\n",
    "                c1=c1+1\n",
    "        print('AVERAGE of the Between the 600 t0 800 : ',s1/c1)\n",
    "r=Random_Numbers()\n",
    "r.generante_randoms_numbers()\n",
    "r.set_tuple()\n",
    "r.odd_even_numbers()\n",
    "r.divisible_5_and_7()\n",
    "r.avg_of_the_600to800()"
   ]
  },
  {
   "cell_type": "code",
   "execution_count": 13,
   "id": "929cec56",
   "metadata": {},
   "outputs": [
    {
     "name": "stdout",
     "output_type": "stream",
     "text": [
      "Enter a Sentance : hello i am prathyusha now i am working in aroha technolage\n",
      "hello i am prathyusha now i am working in aroha technolage\n",
      "HELLO#I#AM#PRATHYUSHA#NOW#I#AM#WORKING#IN#AROHA#TECHNOLAGE\n",
      "HELLO I AM PRATHYUSHA NOW I AM WORKING IN AROHA TECHNOLAGE\n",
      "['HELLO', 'I', 'AM', 'PRATHYUSHA', 'NOW', 'I', 'AM', 'WORKING', 'IN', 'AROHA', 'TECHNOLAGE']\n",
      "['AM', 'AM', 'AROHA', 'HELLO', 'I', 'I', 'IN', 'NOW', 'PRATHYUSHA', 'TECHNOLAGE', 'WORKING']\n",
      "{100: ['AM', 'AM', 'AROHA', 'HELLO', 'Bhashkar', 'Deepak', 'Harish', 'Ganesh'], 200: ['I', 'I', 'IN', 'NOW', 'Lata'], 300: ['PRATHYUSHA', 'TECHNOLAGE', 'Vivek', 'Usha', 'Zubin', 'Rishi', 'Xavier']}\n"
     ]
    }
   ],
   "source": [
    "class Sentence:\n",
    "    def enter_sentence(self):\n",
    "        sen=input(\"Enter a Sentance : \")\n",
    "        su=sen.upper()\n",
    "        rep=su.replace(\" \",\"#\")\n",
    "        self.sp=rep.split(\"#\")\n",
    "        print(sen)\n",
    "        print(rep)\n",
    "        print(su)\n",
    "        print(self.sp)\n",
    "    def sort_the_list(self):\n",
    "        self.sp.sort()\n",
    "        print(self.sp)\n",
    "    def create_dist_list(self):\n",
    "        self.words_dict={}\n",
    "        self.A_H=[\"A\",\"B\",\"C\",\"D\",\"E\",\"F\",\"G\",\"H\"]\n",
    "        self.I_N=[\"I\",\"J\",\"K\",\"L\",\"M\",\"N\"]\n",
    "        self.M_Z=[\"M\",\"N\",\"O\",\"P\",\"Q\",\"R\",\"S\",\"T\",\"U\",\"V\",\"X\",\"Y\",\"Z\"]\n",
    "        self.A_H_list=[]\n",
    "        self.I_N_list=[]\n",
    "        self.M_Z_list=[]\n",
    "        \n",
    "    def store_the_values(self):\n",
    "        for i in self.sp:\n",
    "            if i[0] in self.A_H:\n",
    "                self.A_H_list.append(i)\n",
    "            elif i[0] in self.I_N:\n",
    "                self.I_N_list.append(i)\n",
    "            elif i[0] in self.M_Z:\n",
    "                self.M_Z_list.append(i)\n",
    "    def add_some_values(self):\n",
    "        data1={ 'Ganesh','Harish','Xavier','Deepak','Bhashkar','Lata','Usha','Zubin','Rishi','Vivek' }\n",
    "        for i in data1:\n",
    "            if i[0] in self.A_H:\n",
    "                self.A_H_list.append(i)\n",
    "            elif i[0] in self.I_N:\n",
    "                self.I_N_list.append(i)\n",
    "            elif i[0] in self.M_Z:\n",
    "                self.M_Z_list.append(i)\n",
    "            \n",
    "    def uppdate_to_dict(self):\n",
    "        self.words_dict[100]=self.A_H_list\n",
    "        self.words_dict[200]=self.I_N_list\n",
    "        self.words_dict[300]=self.M_Z_list\n",
    "        print(self.words_dict)\n",
    "s=Sentence()\n",
    "s.enter_sentence()\n",
    "s.sort_the_list()\n",
    "s.create_dist_list()\n",
    "s.store_the_values()\n",
    "s.add_some_values()\n",
    "s.uppdate_to_dict()"
   ]
  },
  {
   "cell_type": "code",
   "execution_count": null,
   "id": "be9ca229",
   "metadata": {},
   "outputs": [],
   "source": []
  }
 ],
 "metadata": {
  "kernelspec": {
   "display_name": "Python 3",
   "language": "python",
   "name": "python3"
  },
  "language_info": {
   "codemirror_mode": {
    "name": "ipython",
    "version": 3
   },
   "file_extension": ".py",
   "mimetype": "text/x-python",
   "name": "python",
   "nbconvert_exporter": "python",
   "pygments_lexer": "ipython3",
   "version": "3.8.8"
  }
 },
 "nbformat": 4,
 "nbformat_minor": 5
}
